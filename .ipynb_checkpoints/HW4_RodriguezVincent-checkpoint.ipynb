{
 "cells": [
  {
   "cell_type": "code",
   "execution_count": null,
   "id": "83064793-1b85-498c-a1b6-d102152e1cce",
   "metadata": {},
   "outputs": [],
   "source": [
    "# install pandas-gbq package that would allow to push a dataframe into BigQuery table"
   ]
  },
  {
   "cell_type": "code",
   "execution_count": null,
   "id": "c3820c47-a412-4998-ad70-d794c4b367ce",
   "metadata": {},
   "outputs": [],
   "source": [
    "pip install pandas-gbq"
   ]
  },
  {
   "cell_type": "markdown",
   "id": "ee36d71e-7237-43f4-bd1e-354e9da089a2",
   "metadata": {},
   "source": [
    "# BAN 5753, Cloud Analytics Exercise (10 Points)\n",
    "## You must do it alone (it is not a group activity)\n",
    "\n",
    "- Set up Google Account, Billing Account, Project, AI Platform Notebook, and BigQuery Dataset\n",
    "- Load last 2000 days of historical Ethereum prices in USD into your BigQuery Dataset as a new table, add human readable price snapshot datetime field into the table.\n",
    "- Watch the video for clues – answer should be a word document or PPT with screenshots of all deliverables. Also, professional commentary about steps taken is expected.\n"
   ]
  },
  {
   "cell_type": "code",
   "execution_count": 1,
   "id": "3b51dd84-8d96-434a-bd44-4b71ada95ca9",
   "metadata": {},
   "outputs": [],
   "source": [
    "# import all relevant packages \n",
    "import pandas as pd\n",
    "from pandas.io import gbq\n",
    "import requests\n",
    "import json"
   ]
  },
  {
   "cell_type": "markdown",
   "id": "3177007c-c575-4f0e-aeb0-88f45be152cb",
   "metadata": {},
   "source": [
    "The bare token was in the script. To improve security, I ask for user inputs using the a base-level password specifc input method from the getpass api. Inputs were also added to for token an limit. "
   ]
  },
  {
   "cell_type": "code",
   "execution_count": 8,
   "id": "da7d9d15-c6a1-44aa-ad7a-ad89ef8be32e",
   "metadata": {},
   "outputs": [
    {
     "name": "stdin",
     "output_type": "stream",
     "text": [
      "Token Symbol: ETH\n",
      "Enter api key: ································································\n",
      "Record Limit: 2000\n"
     ]
    }
   ],
   "source": [
    "# call cryptocompare historical stats API\n",
    "from getpass import getpass\n",
    "token_sym = input(\"Token Symbol:\")\n",
    "\n",
    "def get_data():    \n",
    "    \n",
    "    # added for a bit more security\n",
    "    user_apiKey = getpass(\"Enter api key:\")\n",
    "    \n",
    "    limit = input(\"Record Limit:\")\n",
    "    \n",
    "    crypto_api_url = \"https://min-api.cryptocompare.com/data/v2/histoday\"\n",
    "    payload = {'fsym': 'ETH', 'tsym': 'USD','limit': limit, 'api_key': user_apiKey}\n",
    "    request_data = requests.get(crypto_api_url,params=payload)\n",
    "    \n",
    "    return request_data.json()['Data']['Data']\n",
    "\n",
    "CryptoAPIDataResponse = get_data()"
   ]
  },
  {
   "cell_type": "markdown",
   "id": "c67262f8-5d80-4582-84b1-1d9ac61301d1",
   "metadata": {},
   "source": [
    "## Transformations"
   ]
  },
  {
   "cell_type": "code",
   "execution_count": 3,
   "id": "1f0f4207-8f7b-4083-b258-0a47738f5efa",
   "metadata": {},
   "outputs": [],
   "source": [
    "#convert to JSON\n",
    "CryptoAPIDataResponseJSON = json.dumps(CryptoAPIDataResponse)"
   ]
  },
  {
   "cell_type": "code",
   "execution_count": 4,
   "id": "d008e24a-d72d-437d-a9a7-41009b11eaa5",
   "metadata": {},
   "outputs": [
    {
     "data": {
      "text/html": [
       "<div>\n",
       "<style scoped>\n",
       "    .dataframe tbody tr th:only-of-type {\n",
       "        vertical-align: middle;\n",
       "    }\n",
       "\n",
       "    .dataframe tbody tr th {\n",
       "        vertical-align: top;\n",
       "    }\n",
       "\n",
       "    .dataframe thead th {\n",
       "        text-align: right;\n",
       "    }\n",
       "</style>\n",
       "<table border=\"1\" class=\"dataframe\">\n",
       "  <thead>\n",
       "    <tr style=\"text-align: right;\">\n",
       "      <th></th>\n",
       "      <th>time</th>\n",
       "      <th>high</th>\n",
       "      <th>low</th>\n",
       "      <th>open</th>\n",
       "      <th>volumefrom</th>\n",
       "      <th>volumeto</th>\n",
       "      <th>close</th>\n",
       "      <th>conversionType</th>\n",
       "      <th>conversionSymbol</th>\n",
       "    </tr>\n",
       "  </thead>\n",
       "  <tbody>\n",
       "    <tr>\n",
       "      <th>0</th>\n",
       "      <td>1490918400</td>\n",
       "      <td>52.22</td>\n",
       "      <td>46.83</td>\n",
       "      <td>51.91</td>\n",
       "      <td>754720.51</td>\n",
       "      <td>37271970.09</td>\n",
       "      <td>49.91</td>\n",
       "      <td>direct</td>\n",
       "      <td></td>\n",
       "    </tr>\n",
       "    <tr>\n",
       "      <th>1</th>\n",
       "      <td>1491004800</td>\n",
       "      <td>52.70</td>\n",
       "      <td>47.70</td>\n",
       "      <td>49.57</td>\n",
       "      <td>911358.56</td>\n",
       "      <td>45810015.46</td>\n",
       "      <td>50.27</td>\n",
       "      <td>multiply</td>\n",
       "      <td>BTC</td>\n",
       "    </tr>\n",
       "    <tr>\n",
       "      <th>2</th>\n",
       "      <td>1491091200</td>\n",
       "      <td>51.93</td>\n",
       "      <td>40.09</td>\n",
       "      <td>50.27</td>\n",
       "      <td>1402855.51</td>\n",
       "      <td>67229687.11</td>\n",
       "      <td>47.92</td>\n",
       "      <td>multiply</td>\n",
       "      <td>BTC</td>\n",
       "    </tr>\n",
       "    <tr>\n",
       "      <th>3</th>\n",
       "      <td>1491177600</td>\n",
       "      <td>50.44</td>\n",
       "      <td>42.39</td>\n",
       "      <td>47.92</td>\n",
       "      <td>1993261.33</td>\n",
       "      <td>87492551.67</td>\n",
       "      <td>43.89</td>\n",
       "      <td>multiply</td>\n",
       "      <td>BTC</td>\n",
       "    </tr>\n",
       "    <tr>\n",
       "      <th>4</th>\n",
       "      <td>1491264000</td>\n",
       "      <td>46.33</td>\n",
       "      <td>40.52</td>\n",
       "      <td>43.89</td>\n",
       "      <td>1768504.23</td>\n",
       "      <td>78366125.15</td>\n",
       "      <td>44.31</td>\n",
       "      <td>multiply</td>\n",
       "      <td>BTC</td>\n",
       "    </tr>\n",
       "  </tbody>\n",
       "</table>\n",
       "</div>"
      ],
      "text/plain": [
       "         time   high    low   open  volumefrom     volumeto  close  \\\n",
       "0  1490918400  52.22  46.83  51.91   754720.51  37271970.09  49.91   \n",
       "1  1491004800  52.70  47.70  49.57   911358.56  45810015.46  50.27   \n",
       "2  1491091200  51.93  40.09  50.27  1402855.51  67229687.11  47.92   \n",
       "3  1491177600  50.44  42.39  47.92  1993261.33  87492551.67  43.89   \n",
       "4  1491264000  46.33  40.52  43.89  1768504.23  78366125.15  44.31   \n",
       "\n",
       "  conversionType conversionSymbol  \n",
       "0         direct                   \n",
       "1       multiply              BTC  \n",
       "2       multiply              BTC  \n",
       "3       multiply              BTC  \n",
       "4       multiply              BTC  "
      ]
     },
     "execution_count": 4,
     "metadata": {},
     "output_type": "execute_result"
    }
   ],
   "source": [
    "#convert to pandas dataframe to prepare for insertion into BigQuery\n",
    "datalistDF = pd.read_json(CryptoAPIDataResponseJSON)\n",
    "datalistDF.head()"
   ]
  },
  {
   "cell_type": "code",
   "execution_count": 5,
   "id": "7186f15a-9896-40a6-ba4d-ebbd34847635",
   "metadata": {},
   "outputs": [
    {
     "data": {
      "text/html": [
       "<div>\n",
       "<style scoped>\n",
       "    .dataframe tbody tr th:only-of-type {\n",
       "        vertical-align: middle;\n",
       "    }\n",
       "\n",
       "    .dataframe tbody tr th {\n",
       "        vertical-align: top;\n",
       "    }\n",
       "\n",
       "    .dataframe thead th {\n",
       "        text-align: right;\n",
       "    }\n",
       "</style>\n",
       "<table border=\"1\" class=\"dataframe\">\n",
       "  <thead>\n",
       "    <tr style=\"text-align: right;\">\n",
       "      <th></th>\n",
       "      <th>time</th>\n",
       "      <th>high</th>\n",
       "      <th>low</th>\n",
       "      <th>open</th>\n",
       "      <th>volumefrom</th>\n",
       "      <th>volumeto</th>\n",
       "      <th>close</th>\n",
       "      <th>conversionType</th>\n",
       "      <th>conversionSymbol</th>\n",
       "      <th>time_python</th>\n",
       "    </tr>\n",
       "  </thead>\n",
       "  <tbody>\n",
       "    <tr>\n",
       "      <th>0</th>\n",
       "      <td>1490918400</td>\n",
       "      <td>52.22</td>\n",
       "      <td>46.83</td>\n",
       "      <td>51.91</td>\n",
       "      <td>754720.51</td>\n",
       "      <td>37271970.09</td>\n",
       "      <td>49.91</td>\n",
       "      <td>direct</td>\n",
       "      <td></td>\n",
       "      <td>2017-03-31</td>\n",
       "    </tr>\n",
       "    <tr>\n",
       "      <th>1</th>\n",
       "      <td>1491004800</td>\n",
       "      <td>52.70</td>\n",
       "      <td>47.70</td>\n",
       "      <td>49.57</td>\n",
       "      <td>911358.56</td>\n",
       "      <td>45810015.46</td>\n",
       "      <td>50.27</td>\n",
       "      <td>multiply</td>\n",
       "      <td>BTC</td>\n",
       "      <td>2017-04-01</td>\n",
       "    </tr>\n",
       "    <tr>\n",
       "      <th>2</th>\n",
       "      <td>1491091200</td>\n",
       "      <td>51.93</td>\n",
       "      <td>40.09</td>\n",
       "      <td>50.27</td>\n",
       "      <td>1402855.51</td>\n",
       "      <td>67229687.11</td>\n",
       "      <td>47.92</td>\n",
       "      <td>multiply</td>\n",
       "      <td>BTC</td>\n",
       "      <td>2017-04-02</td>\n",
       "    </tr>\n",
       "    <tr>\n",
       "      <th>3</th>\n",
       "      <td>1491177600</td>\n",
       "      <td>50.44</td>\n",
       "      <td>42.39</td>\n",
       "      <td>47.92</td>\n",
       "      <td>1993261.33</td>\n",
       "      <td>87492551.67</td>\n",
       "      <td>43.89</td>\n",
       "      <td>multiply</td>\n",
       "      <td>BTC</td>\n",
       "      <td>2017-04-03</td>\n",
       "    </tr>\n",
       "    <tr>\n",
       "      <th>4</th>\n",
       "      <td>1491264000</td>\n",
       "      <td>46.33</td>\n",
       "      <td>40.52</td>\n",
       "      <td>43.89</td>\n",
       "      <td>1768504.23</td>\n",
       "      <td>78366125.15</td>\n",
       "      <td>44.31</td>\n",
       "      <td>multiply</td>\n",
       "      <td>BTC</td>\n",
       "      <td>2017-04-04</td>\n",
       "    </tr>\n",
       "  </tbody>\n",
       "</table>\n",
       "</div>"
      ],
      "text/plain": [
       "         time   high    low   open  volumefrom     volumeto  close  \\\n",
       "0  1490918400  52.22  46.83  51.91   754720.51  37271970.09  49.91   \n",
       "1  1491004800  52.70  47.70  49.57   911358.56  45810015.46  50.27   \n",
       "2  1491091200  51.93  40.09  50.27  1402855.51  67229687.11  47.92   \n",
       "3  1491177600  50.44  42.39  47.92  1993261.33  87492551.67  43.89   \n",
       "4  1491264000  46.33  40.52  43.89  1768504.23  78366125.15  44.31   \n",
       "\n",
       "  conversionType conversionSymbol time_python  \n",
       "0         direct                   2017-03-31  \n",
       "1       multiply              BTC  2017-04-01  \n",
       "2       multiply              BTC  2017-04-02  \n",
       "3       multiply              BTC  2017-04-03  \n",
       "4       multiply              BTC  2017-04-04  "
      ]
     },
     "execution_count": 5,
     "metadata": {},
     "output_type": "execute_result"
    }
   ],
   "source": [
    "# Doing conversion time conversion here\n",
    "from datetime import datetime\n",
    "\n",
    "dateConvert = pd.to_datetime(datalistDF['time'],unit='s')\n",
    "datalistDF[\"time_python\"] = dateConvert\n",
    "datalistDF.head()"
   ]
  },
  {
   "cell_type": "markdown",
   "id": "d9cb937e-e2dd-4251-b1b3-8c9a40c3c93a",
   "metadata": {},
   "source": [
    "## Exporting to BigQuery\n",
    "In order to clearly identiy the table contents and the avoid renaming the table manually, text format options were added . They use the token symbol input to the get_data function and below the date range of the subset is added to parameters.  "
   ]
  },
  {
   "cell_type": "code",
   "execution_count": 6,
   "id": "3bc971e8-fdbc-45b8-bb16-8a2c611f7140",
   "metadata": {},
   "outputs": [],
   "source": [
    "# creating a table identifier relative to data subset\n",
    "minDate = datalistDF.time_python.min().strftime(\"%Y%m%d\")\n",
    "maxDate = datalistDF.time_python.max().strftime(\"%Y%m%d\")\n"
   ]
  },
  {
   "cell_type": "code",
   "execution_count": 10,
   "id": "d922c635-5e58-4dbb-8c04-09d05c320b28",
   "metadata": {},
   "outputs": [
    {
     "name": "stderr",
     "output_type": "stream",
     "text": [
      "100%|██████████| 1/1 [00:00<00:00, 1804.78it/s]\n"
     ]
    }
   ],
   "source": [
    "# create new table in BigQuery with the output\n",
    "# SampleDataset will need to be created in BigQuery before running this command\n",
    "tableName = 'SampleDataset.{_token}_HIST_{_minDate}_{_maxDate}'.format(_token= token_sym, _minDate = minDate, _maxDate = maxDate)\n",
    "\n",
    "datalistDF.to_gbq(destination_table = tableName,\n",
    "                  project_id='glowing-net-362917',\n",
    "                  if_exists='fail')"
   ]
  },
  {
   "cell_type": "code",
   "execution_count": 11,
   "id": "3f18ced8-0292-41b3-aa17-a1f533fb3c9a",
   "metadata": {},
   "outputs": [
    {
     "data": {
      "text/plain": [
       "'SampleDataset.ETH_HIST_20170331_20220921'"
      ]
     },
     "execution_count": 11,
     "metadata": {},
     "output_type": "execute_result"
    }
   ],
   "source": [
    "tableName"
   ]
  },
  {
   "cell_type": "markdown",
   "id": "cbe643f9-3e61-4993-ba7c-75bfa6b47961",
   "metadata": {
    "tags": []
   },
   "source": [
    "## Summary\n",
    "\n",
    "The GIT repo listed in the slide deck was cloned and the demo notebook edited to meet the requirements of the assignement. The type conversion for time was handled using python instead of SQL. I could have created a new column with the converted column using the SQL statement but I wanted to try it a different way since it'd just be copy of the video. \n",
    "\n",
    "The sample dataset was then pushed to my GCP project, glowing-net-362917. It contains 2001 rows of data related to the ETH. \n",
    "\n",
    "<img src=\"_assets/PNG image.png\" >\n"
   ]
  }
 ],
 "metadata": {
  "environment": {
   "kernel": "python3",
   "name": "tf2-gpu.2-8.m96",
   "type": "gcloud",
   "uri": "gcr.io/deeplearning-platform-release/tf2-gpu.2-8:m96"
  },
  "kernelspec": {
   "display_name": "Python 3",
   "language": "python",
   "name": "python3"
  },
  "language_info": {
   "codemirror_mode": {
    "name": "ipython",
    "version": 3
   },
   "file_extension": ".py",
   "mimetype": "text/x-python",
   "name": "python",
   "nbconvert_exporter": "python",
   "pygments_lexer": "ipython3",
   "version": "3.7.12"
  }
 },
 "nbformat": 4,
 "nbformat_minor": 5
}
